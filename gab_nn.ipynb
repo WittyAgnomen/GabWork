{
 "cells": [
  {
   "cell_type": "code",
   "execution_count": 1,
   "metadata": {
    "collapsed": true
   },
   "outputs": [],
   "source": [
    "import pandas as pd\n",
    "from sklearn.neighbors import NearestNeighbors"
   ]
  },
  {
   "cell_type": "code",
   "execution_count": 2,
   "metadata": {
    "collapsed": true
   },
   "outputs": [],
   "source": [
    "test = pd.read_pickle('Pics/one_res/results.pkl')"
   ]
  },
  {
   "cell_type": "code",
   "execution_count": 3,
   "metadata": {},
   "outputs": [
    {
     "data": {
      "text/html": [
       "<div>\n",
       "<style>\n",
       "    .dataframe thead tr:only-child th {\n",
       "        text-align: right;\n",
       "    }\n",
       "\n",
       "    .dataframe thead th {\n",
       "        text-align: left;\n",
       "    }\n",
       "\n",
       "    .dataframe tbody tr th {\n",
       "        vertical-align: top;\n",
       "    }\n",
       "</style>\n",
       "<table border=\"1\" class=\"dataframe\">\n",
       "  <thead>\n",
       "    <tr style=\"text-align: right;\">\n",
       "      <th></th>\n",
       "      <th>name</th>\n",
       "      <th>feature</th>\n",
       "    </tr>\n",
       "  </thead>\n",
       "  <tbody>\n",
       "    <tr>\n",
       "      <th>0</th>\n",
       "      <td>5790D4-1.jpg</td>\n",
       "      <td>[0.44893, 0.180701, 0.050625, 0.0, 0.0286419, ...</td>\n",
       "    </tr>\n",
       "    <tr>\n",
       "      <th>1</th>\n",
       "      <td>AB101M45JJ-1.jpg</td>\n",
       "      <td>[0.0, 0.0168546, 0.0, 0.0, 0.0, 0.0, 0.0, 0.00...</td>\n",
       "    </tr>\n",
       "    <tr>\n",
       "      <th>2</th>\n",
       "      <td>AB107M45JJ-1.jpg</td>\n",
       "      <td>[0.0, 0.0876583, 0.0, 0.0, 0.0, 0.0, 0.0, 0.0,...</td>\n",
       "    </tr>\n",
       "    <tr>\n",
       "      <th>3</th>\n",
       "      <td>AB109W45JJ-1.jpg</td>\n",
       "      <td>[0.0, 0.0414844, 0.000525423, 0.0, 0.0291193, ...</td>\n",
       "    </tr>\n",
       "    <tr>\n",
       "      <th>4</th>\n",
       "      <td>AB753W45JJ-1.jpg</td>\n",
       "      <td>[0.0, 0.000399219, 0.0, 0.0, 0.0, 0.0, 0.0, 0....</td>\n",
       "    </tr>\n",
       "  </tbody>\n",
       "</table>\n",
       "</div>"
      ],
      "text/plain": [
       "               name                                            feature\n",
       "0      5790D4-1.jpg  [0.44893, 0.180701, 0.050625, 0.0, 0.0286419, ...\n",
       "1  AB101M45JJ-1.jpg  [0.0, 0.0168546, 0.0, 0.0, 0.0, 0.0, 0.0, 0.00...\n",
       "2  AB107M45JJ-1.jpg  [0.0, 0.0876583, 0.0, 0.0, 0.0, 0.0, 0.0, 0.0,...\n",
       "3  AB109W45JJ-1.jpg  [0.0, 0.0414844, 0.000525423, 0.0, 0.0291193, ...\n",
       "4  AB753W45JJ-1.jpg  [0.0, 0.000399219, 0.0, 0.0, 0.0, 0.0, 0.0, 0...."
      ]
     },
     "execution_count": 3,
     "metadata": {},
     "output_type": "execute_result"
    }
   ],
   "source": [
    "test.head()"
   ]
  },
  {
   "cell_type": "code",
   "execution_count": 4,
   "metadata": {
    "collapsed": true
   },
   "outputs": [],
   "source": [
    "#test['feats'] = test['feats'].apply(lambda x: eval(x))"
   ]
  },
  {
   "cell_type": "code",
   "execution_count": 5,
   "metadata": {},
   "outputs": [
    {
     "data": {
      "text/plain": [
       "numpy.ndarray"
      ]
     },
     "execution_count": 5,
     "metadata": {},
     "output_type": "execute_result"
    }
   ],
   "source": [
    "type(test['feature'][0])"
   ]
  },
  {
   "cell_type": "code",
   "execution_count": 6,
   "metadata": {
    "collapsed": true
   },
   "outputs": [],
   "source": [
    "x = list(test['feature'])\n",
    "nbrs = NearestNeighbors(n_neighbors=25, algorithm='ball_tree').fit(x)\n",
    "distances, indices = nbrs.kneighbors(x)"
   ]
  },
  {
   "cell_type": "code",
   "execution_count": 7,
   "metadata": {
    "collapsed": true
   },
   "outputs": [],
   "source": [
    "test = test.assign(nbors = list(indices))\n",
    "test = test.assign(dist = list(distances))"
   ]
  },
  {
   "cell_type": "code",
   "execution_count": 8,
   "metadata": {},
   "outputs": [
    {
     "data": {
      "text/html": [
       "<div>\n",
       "<style>\n",
       "    .dataframe thead tr:only-child th {\n",
       "        text-align: right;\n",
       "    }\n",
       "\n",
       "    .dataframe thead th {\n",
       "        text-align: left;\n",
       "    }\n",
       "\n",
       "    .dataframe tbody tr th {\n",
       "        vertical-align: top;\n",
       "    }\n",
       "</style>\n",
       "<table border=\"1\" class=\"dataframe\">\n",
       "  <thead>\n",
       "    <tr style=\"text-align: right;\">\n",
       "      <th></th>\n",
       "      <th>name</th>\n",
       "      <th>feature</th>\n",
       "      <th>nbors</th>\n",
       "      <th>dist</th>\n",
       "    </tr>\n",
       "  </thead>\n",
       "  <tbody>\n",
       "    <tr>\n",
       "      <th>0</th>\n",
       "      <td>5790D4-1.jpg</td>\n",
       "      <td>[0.44893, 0.180701, 0.050625, 0.0, 0.0286419, ...</td>\n",
       "      <td>[0, 32537, 31679, 32400, 20669, 28669, 19611, ...</td>\n",
       "      <td>[0.0, 7.22778763527, 7.51708884191, 7.59965286...</td>\n",
       "    </tr>\n",
       "    <tr>\n",
       "      <th>1</th>\n",
       "      <td>AB101M45JJ-1.jpg</td>\n",
       "      <td>[0.0, 0.0168546, 0.0, 0.0, 0.0, 0.0, 0.0, 0.00...</td>\n",
       "      <td>[1, 39897, 2, 39321, 39894, 39322, 39371, 3987...</td>\n",
       "      <td>[0.0, 3.20873942206, 3.38035631042, 3.66045870...</td>\n",
       "    </tr>\n",
       "    <tr>\n",
       "      <th>2</th>\n",
       "      <td>AB107M45JJ-1.jpg</td>\n",
       "      <td>[0.0, 0.0876583, 0.0, 0.0, 0.0, 0.0, 0.0, 0.0,...</td>\n",
       "      <td>[2, 1, 39897, 40047, 39371, 39792, 39489, 3989...</td>\n",
       "      <td>[0.0, 3.38035631042, 4.35348814463, 4.45875260...</td>\n",
       "    </tr>\n",
       "    <tr>\n",
       "      <th>3</th>\n",
       "      <td>AB109W45JJ-1.jpg</td>\n",
       "      <td>[0.0, 0.0414844, 0.000525423, 0.0, 0.0291193, ...</td>\n",
       "      <td>[3, 12, 41817, 41569, 41573, 41637, 41571, 414...</td>\n",
       "      <td>[0.0, 3.16097271802, 3.16367153068, 4.22530006...</td>\n",
       "    </tr>\n",
       "    <tr>\n",
       "      <th>4</th>\n",
       "      <td>AB753W45JJ-1.jpg</td>\n",
       "      <td>[0.0, 0.000399219, 0.0, 0.0, 0.0, 0.0, 0.0, 0....</td>\n",
       "      <td>[4, 8, 5, 9, 10, 12, 41647, 41568, 41832, 4150...</td>\n",
       "      <td>[0.0, 2.57748982958, 2.80388813834, 3.59858303...</td>\n",
       "    </tr>\n",
       "  </tbody>\n",
       "</table>\n",
       "</div>"
      ],
      "text/plain": [
       "               name                                            feature  \\\n",
       "0      5790D4-1.jpg  [0.44893, 0.180701, 0.050625, 0.0, 0.0286419, ...   \n",
       "1  AB101M45JJ-1.jpg  [0.0, 0.0168546, 0.0, 0.0, 0.0, 0.0, 0.0, 0.00...   \n",
       "2  AB107M45JJ-1.jpg  [0.0, 0.0876583, 0.0, 0.0, 0.0, 0.0, 0.0, 0.0,...   \n",
       "3  AB109W45JJ-1.jpg  [0.0, 0.0414844, 0.000525423, 0.0, 0.0291193, ...   \n",
       "4  AB753W45JJ-1.jpg  [0.0, 0.000399219, 0.0, 0.0, 0.0, 0.0, 0.0, 0....   \n",
       "\n",
       "                                               nbors  \\\n",
       "0  [0, 32537, 31679, 32400, 20669, 28669, 19611, ...   \n",
       "1  [1, 39897, 2, 39321, 39894, 39322, 39371, 3987...   \n",
       "2  [2, 1, 39897, 40047, 39371, 39792, 39489, 3989...   \n",
       "3  [3, 12, 41817, 41569, 41573, 41637, 41571, 414...   \n",
       "4  [4, 8, 5, 9, 10, 12, 41647, 41568, 41832, 4150...   \n",
       "\n",
       "                                                dist  \n",
       "0  [0.0, 7.22778763527, 7.51708884191, 7.59965286...  \n",
       "1  [0.0, 3.20873942206, 3.38035631042, 3.66045870...  \n",
       "2  [0.0, 3.38035631042, 4.35348814463, 4.45875260...  \n",
       "3  [0.0, 3.16097271802, 3.16367153068, 4.22530006...  \n",
       "4  [0.0, 2.57748982958, 2.80388813834, 3.59858303...  "
      ]
     },
     "execution_count": 8,
     "metadata": {},
     "output_type": "execute_result"
    }
   ],
   "source": [
    "test.head()"
   ]
  },
  {
   "cell_type": "code",
   "execution_count": 9,
   "metadata": {
    "collapsed": true
   },
   "outputs": [],
   "source": [
    "test['nbors_names'] = test['nbors'].apply(lambda x: [test['name'][i] for i in x])"
   ]
  },
  {
   "cell_type": "code",
   "execution_count": 10,
   "metadata": {},
   "outputs": [
    {
     "data": {
      "text/html": [
       "<div>\n",
       "<style>\n",
       "    .dataframe thead tr:only-child th {\n",
       "        text-align: right;\n",
       "    }\n",
       "\n",
       "    .dataframe thead th {\n",
       "        text-align: left;\n",
       "    }\n",
       "\n",
       "    .dataframe tbody tr th {\n",
       "        vertical-align: top;\n",
       "    }\n",
       "</style>\n",
       "<table border=\"1\" class=\"dataframe\">\n",
       "  <thead>\n",
       "    <tr style=\"text-align: right;\">\n",
       "      <th></th>\n",
       "      <th>name</th>\n",
       "      <th>feature</th>\n",
       "      <th>nbors</th>\n",
       "      <th>dist</th>\n",
       "      <th>nbors_names</th>\n",
       "    </tr>\n",
       "  </thead>\n",
       "  <tbody>\n",
       "    <tr>\n",
       "      <th>0</th>\n",
       "      <td>5790D4-1.jpg</td>\n",
       "      <td>[0.44893, 0.180701, 0.050625, 0.0, 0.0286419, ...</td>\n",
       "      <td>[0, 32537, 31679, 32400, 20669, 28669, 19611, ...</td>\n",
       "      <td>[0.0, 7.22778763527, 7.51708884191, 7.59965286...</td>\n",
       "      <td>[5790D4-1.jpg, LR5831Y84JJ-1.jpg, LR5116Y44CT-...</td>\n",
       "    </tr>\n",
       "    <tr>\n",
       "      <th>1</th>\n",
       "      <td>AB101M45JJ-1.jpg</td>\n",
       "      <td>[0.0, 0.0168546, 0.0, 0.0, 0.0, 0.0, 0.0, 0.00...</td>\n",
       "      <td>[1, 39897, 2, 39321, 39894, 39322, 39371, 3987...</td>\n",
       "      <td>[0.0, 3.20873942206, 3.38035631042, 3.66045870...</td>\n",
       "      <td>[AB101M45JJ-1.jpg, NK5933Y45JJ-1.jpg, AB107M45...</td>\n",
       "    </tr>\n",
       "    <tr>\n",
       "      <th>2</th>\n",
       "      <td>AB107M45JJ-1.jpg</td>\n",
       "      <td>[0.0, 0.0876583, 0.0, 0.0, 0.0, 0.0, 0.0, 0.0,...</td>\n",
       "      <td>[2, 1, 39897, 40047, 39371, 39792, 39489, 3989...</td>\n",
       "      <td>[0.0, 3.38035631042, 4.35348814463, 4.45875260...</td>\n",
       "      <td>[AB107M45JJ-1.jpg, AB101M45JJ-1.jpg, NK5933Y45...</td>\n",
       "    </tr>\n",
       "    <tr>\n",
       "      <th>3</th>\n",
       "      <td>AB109W45JJ-1.jpg</td>\n",
       "      <td>[0.0, 0.0414844, 0.000525423, 0.0, 0.0291193, ...</td>\n",
       "      <td>[3, 12, 41817, 41569, 41573, 41637, 41571, 414...</td>\n",
       "      <td>[0.0, 3.16097271802, 3.16367153068, 4.22530006...</td>\n",
       "      <td>[AB109W45JJ-1.jpg, AB934W45JJ-1.jpg, TB3961W45...</td>\n",
       "    </tr>\n",
       "    <tr>\n",
       "      <th>4</th>\n",
       "      <td>AB753W45JJ-1.jpg</td>\n",
       "      <td>[0.0, 0.000399219, 0.0, 0.0, 0.0, 0.0, 0.0, 0....</td>\n",
       "      <td>[4, 8, 5, 9, 10, 12, 41647, 41568, 41832, 4150...</td>\n",
       "      <td>[0.0, 2.57748982958, 2.80388813834, 3.59858303...</td>\n",
       "      <td>[AB753W45JJ-1.jpg, AB824W45JJ-1.jpg, AB755W45J...</td>\n",
       "    </tr>\n",
       "  </tbody>\n",
       "</table>\n",
       "</div>"
      ],
      "text/plain": [
       "               name                                            feature  \\\n",
       "0      5790D4-1.jpg  [0.44893, 0.180701, 0.050625, 0.0, 0.0286419, ...   \n",
       "1  AB101M45JJ-1.jpg  [0.0, 0.0168546, 0.0, 0.0, 0.0, 0.0, 0.0, 0.00...   \n",
       "2  AB107M45JJ-1.jpg  [0.0, 0.0876583, 0.0, 0.0, 0.0, 0.0, 0.0, 0.0,...   \n",
       "3  AB109W45JJ-1.jpg  [0.0, 0.0414844, 0.000525423, 0.0, 0.0291193, ...   \n",
       "4  AB753W45JJ-1.jpg  [0.0, 0.000399219, 0.0, 0.0, 0.0, 0.0, 0.0, 0....   \n",
       "\n",
       "                                               nbors  \\\n",
       "0  [0, 32537, 31679, 32400, 20669, 28669, 19611, ...   \n",
       "1  [1, 39897, 2, 39321, 39894, 39322, 39371, 3987...   \n",
       "2  [2, 1, 39897, 40047, 39371, 39792, 39489, 3989...   \n",
       "3  [3, 12, 41817, 41569, 41573, 41637, 41571, 414...   \n",
       "4  [4, 8, 5, 9, 10, 12, 41647, 41568, 41832, 4150...   \n",
       "\n",
       "                                                dist  \\\n",
       "0  [0.0, 7.22778763527, 7.51708884191, 7.59965286...   \n",
       "1  [0.0, 3.20873942206, 3.38035631042, 3.66045870...   \n",
       "2  [0.0, 3.38035631042, 4.35348814463, 4.45875260...   \n",
       "3  [0.0, 3.16097271802, 3.16367153068, 4.22530006...   \n",
       "4  [0.0, 2.57748982958, 2.80388813834, 3.59858303...   \n",
       "\n",
       "                                         nbors_names  \n",
       "0  [5790D4-1.jpg, LR5831Y84JJ-1.jpg, LR5116Y44CT-...  \n",
       "1  [AB101M45JJ-1.jpg, NK5933Y45JJ-1.jpg, AB107M45...  \n",
       "2  [AB107M45JJ-1.jpg, AB101M45JJ-1.jpg, NK5933Y45...  \n",
       "3  [AB109W45JJ-1.jpg, AB934W45JJ-1.jpg, TB3961W45...  \n",
       "4  [AB753W45JJ-1.jpg, AB824W45JJ-1.jpg, AB755W45J...  "
      ]
     },
     "execution_count": 10,
     "metadata": {},
     "output_type": "execute_result"
    }
   ],
   "source": [
    "test.head()"
   ]
  },
  {
   "cell_type": "code",
   "execution_count": 11,
   "metadata": {
    "collapsed": true
   },
   "outputs": [],
   "source": [
    "test_json = {}\n",
    "for idx, name in enumerate(test['name']):\n",
    "    test_json[name] = test['nbors_names'][idx]"
   ]
  },
  {
   "cell_type": "code",
   "execution_count": 12,
   "metadata": {},
   "outputs": [
    {
     "data": {
      "text/plain": [
       "['5790D4-1.jpg',\n",
       " 'LR5831Y84JJ-1.jpg',\n",
       " 'LR5116Y44CT-1.jpg',\n",
       " 'LR5697Y45SQ-1.jpg',\n",
       " 'ER5712PT4JJ-1.jpg',\n",
       " 'ER98659ALZJJ-1.jpg',\n",
       " 'ER4113Y44JJ-1.jpg',\n",
       " 'ER10751K44JJ-1.jpg',\n",
       " 'ER5471W44JJ-1.jpg',\n",
       " 'ER5471PT4JJ-1.jpg',\n",
       " 'LR6170M45JJ-1.jpg',\n",
       " 'ER98485W44JJ.CSD3-1.jpg',\n",
       " 'ER10060K44JJ-1.jpg',\n",
       " 'LR6811-7SVJAM-1.jpg',\n",
       " 'ER12627S3Y44JJ-1.jpg',\n",
       " 'ER5471ALZJJ-1.jpg',\n",
       " 'ER11743R4T84JJ-1.jpg',\n",
       " 'ER10060Y44JJ-1.jpg',\n",
       " 'ER5439PT4JJ-1.jpg',\n",
       " 'ER5439ALZJJ-1.jpg',\n",
       " 'LR50116T84JJ-1.jpg',\n",
       " 'ER11722R4Y44JJ-1.jpg',\n",
       " 'ER10027K83JJ-1.jpg',\n",
       " 'LR5697Y45GN-1.jpg',\n",
       " 'LR4972Y44GN-1.jpg']"
      ]
     },
     "execution_count": 12,
     "metadata": {},
     "output_type": "execute_result"
    }
   ],
   "source": [
    "test_json['5790D4-1.jpg']"
   ]
  },
  {
   "cell_type": "code",
   "execution_count": 13,
   "metadata": {},
   "outputs": [
    {
     "data": {
      "text/plain": [
       "True"
      ]
     },
     "execution_count": 13,
     "metadata": {},
     "output_type": "execute_result"
    }
   ],
   "source": [
    "len(test_json) == len(test)"
   ]
  },
  {
   "cell_type": "code",
   "execution_count": 14,
   "metadata": {
    "collapsed": true
   },
   "outputs": [],
   "source": [
    "# with open(\"neighbors_model_1.json\", \"w\") as text_file:\n",
    "#     text_file.write(\"{}\".format(str(test_json)))"
   ]
  },
  {
   "cell_type": "code",
   "execution_count": 15,
   "metadata": {
    "collapsed": true
   },
   "outputs": [],
   "source": [
    "import json\n",
    "  \n",
    "json = json.dumps(test_json)\n",
    "f = open(\"neighbors_model_1.json\",\"w\")\n",
    "f.write(json)\n",
    "f.close()"
   ]
  },
  {
   "cell_type": "code",
   "execution_count": 16,
   "metadata": {},
   "outputs": [
    {
     "data": {
      "text/plain": [
       "54778"
      ]
     },
     "execution_count": 16,
     "metadata": {},
     "output_type": "execute_result"
    }
   ],
   "source": [
    "len(test_json)"
   ]
  },
  {
   "cell_type": "code",
   "execution_count": 17,
   "metadata": {
    "collapsed": true
   },
   "outputs": [],
   "source": [
    "import glob\n",
    "\n",
    "fdr = glob.glob('Pics/one/*.jpg')"
   ]
  },
  {
   "cell_type": "code",
   "execution_count": 18,
   "metadata": {},
   "outputs": [
    {
     "data": {
      "text/plain": [
       "54778"
      ]
     },
     "execution_count": 18,
     "metadata": {},
     "output_type": "execute_result"
    }
   ],
   "source": [
    "len(fdr)"
   ]
  },
  {
   "cell_type": "code",
   "execution_count": 21,
   "metadata": {},
   "outputs": [
    {
     "data": {
      "text/plain": [
       "15.216111111111111"
      ]
     },
     "execution_count": 21,
     "metadata": {},
     "output_type": "execute_result"
    }
   ],
   "source": [
    "54778/60/60"
   ]
  },
  {
   "cell_type": "code",
   "execution_count": null,
   "metadata": {
    "collapsed": true
   },
   "outputs": [],
   "source": []
  }
 ],
 "metadata": {
  "kernelspec": {
   "display_name": "Python 3",
   "language": "python",
   "name": "python3"
  },
  "language_info": {
   "codemirror_mode": {
    "name": "ipython",
    "version": 3
   },
   "file_extension": ".py",
   "mimetype": "text/x-python",
   "name": "python",
   "nbconvert_exporter": "python",
   "pygments_lexer": "ipython3",
   "version": "3.5.3"
  }
 },
 "nbformat": 4,
 "nbformat_minor": 2
}
